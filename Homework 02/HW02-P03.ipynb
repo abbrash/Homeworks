{
 "cells": [
  {
   "attachments": {},
   "cell_type": "markdown",
   "metadata": {},
   "source": [
    "# Assignment 2\n",
    "## Problem 3\n",
    "\n",
    "Consider the Dataset_III and do the following steps:"
   ]
  },
  {
   "attachments": {},
   "cell_type": "markdown",
   "metadata": {},
   "source": [
    "$$ Importing\\ modules $$"
   ]
  },
  {
   "cell_type": "code",
   "execution_count": 26,
   "metadata": {},
   "outputs": [],
   "source": [
    "import numpy as np\n",
    "import pandas as pd\n",
    "from sklearn.linear_model import LinearRegression\n",
    "from sklearn.neighbors import KNeighborsClassifier \n",
    "from sklearn.model_selection import train_test_split, cross_val_predict\n",
    "from sklearn.metrics import f1_score\n",
    "from sklearn.preprocessing import PolynomialFeatures\n",
    "from sklearn.pipeline import make_pipeline\n",
    "from pandas.plotting import scatter_matrix\n",
    "from matplotlib import pyplot as plt\n",
    "from tabulate import tabulate"
   ]
  },
  {
   "attachments": {},
   "cell_type": "markdown",
   "metadata": {},
   "source": [
    "$$ Loading\\ the\\ dataset$$"
   ]
  },
  {
   "cell_type": "code",
   "execution_count": 27,
   "metadata": {},
   "outputs": [
    {
     "data": {
      "text/html": [
       "<div>\n",
       "<style scoped>\n",
       "    .dataframe tbody tr th:only-of-type {\n",
       "        vertical-align: middle;\n",
       "    }\n",
       "\n",
       "    .dataframe tbody tr th {\n",
       "        vertical-align: top;\n",
       "    }\n",
       "\n",
       "    .dataframe thead th {\n",
       "        text-align: right;\n",
       "    }\n",
       "</style>\n",
       "<table border=\"1\" class=\"dataframe\">\n",
       "  <thead>\n",
       "    <tr style=\"text-align: right;\">\n",
       "      <th></th>\n",
       "      <th>drink</th>\n",
       "      <th>Volume (ml)</th>\n",
       "      <th>Calories</th>\n",
       "      <th>Caffeine (mg)</th>\n",
       "      <th>type</th>\n",
       "    </tr>\n",
       "  </thead>\n",
       "  <tbody>\n",
       "    <tr>\n",
       "      <th>0</th>\n",
       "      <td>Costa Coffee</td>\n",
       "      <td>256.993715</td>\n",
       "      <td>0</td>\n",
       "      <td>277</td>\n",
       "      <td>Coffee</td>\n",
       "    </tr>\n",
       "    <tr>\n",
       "      <th>1</th>\n",
       "      <td>Coffee Friend Brewed Coffee</td>\n",
       "      <td>250.191810</td>\n",
       "      <td>0</td>\n",
       "      <td>145</td>\n",
       "      <td>Coffee</td>\n",
       "    </tr>\n",
       "    <tr>\n",
       "      <th>2</th>\n",
       "      <td>Hell Energy Coffee</td>\n",
       "      <td>250.191810</td>\n",
       "      <td>150</td>\n",
       "      <td>100</td>\n",
       "      <td>Coffee</td>\n",
       "    </tr>\n",
       "    <tr>\n",
       "      <th>3</th>\n",
       "      <td>Killer Coffee (AU)</td>\n",
       "      <td>250.191810</td>\n",
       "      <td>0</td>\n",
       "      <td>430</td>\n",
       "      <td>Coffee</td>\n",
       "    </tr>\n",
       "    <tr>\n",
       "      <th>4</th>\n",
       "      <td>Nescafe Gold</td>\n",
       "      <td>250.191810</td>\n",
       "      <td>0</td>\n",
       "      <td>66</td>\n",
       "      <td>Coffee</td>\n",
       "    </tr>\n",
       "  </tbody>\n",
       "</table>\n",
       "</div>"
      ],
      "text/plain": [
       "                         drink  Volume (ml)  Calories  Caffeine (mg)    type\n",
       "0                 Costa Coffee   256.993715         0            277  Coffee\n",
       "1  Coffee Friend Brewed Coffee   250.191810         0            145  Coffee\n",
       "2           Hell Energy Coffee   250.191810       150            100  Coffee\n",
       "3           Killer Coffee (AU)   250.191810         0            430  Coffee\n",
       "4                 Nescafe Gold   250.191810         0             66  Coffee"
      ]
     },
     "execution_count": 27,
     "metadata": {},
     "output_type": "execute_result"
    }
   ],
   "source": [
    "dataset = pd.read_csv('Dataset_III.csv')\n",
    "dataset.head()"
   ]
  },
  {
   "attachments": {},
   "cell_type": "markdown",
   "metadata": {},
   "source": [
    "$$Section\\ A$$\n",
    "\n",
    "a) Read the text file, how many classes exist in the dataset? Which class has the most amount of data?"
   ]
  },
  {
   "cell_type": "code",
   "execution_count": 28,
   "metadata": {},
   "outputs": [
    {
     "name": "stdout",
     "output_type": "stream",
     "text": [
      "Dataset Classes: ['Coffee' 'Energy Drinks' 'Energy Shots' 'Soft Drinks' 'Tea' 'Water']\n",
      "Number of Classes: 6\n",
      "The most frequent type of drinks is Energy Drinks\n"
     ]
    }
   ],
   "source": [
    "data_class = dataset['type'].unique()\n",
    "print(\"Dataset Classes: \" + str(data_class))\n",
    "print(\"Number of Classes: \" + str(len(data_class)))\n",
    "print(\"The most frequent type of drinks is\" , str(dataset['type'].mode()[0]))\n",
    "print('The percentage of ' + str(dataset['type'].mode()[0]) + ' in the dataset: ' + str())"
   ]
  },
  {
   "attachments": {},
   "cell_type": "markdown",
   "metadata": {},
   "source": [
    "**According to the Dataset_III, there are six types of drinks, and the most frequent one is \"Energy Drinks\".**"
   ]
  },
  {
   "attachments": {},
   "cell_type": "markdown",
   "metadata": {},
   "source": [
    "$$Section\\ B$$\n",
    "\n",
    "b) Plot the histogram of the numerical features. Explain what you understand"
   ]
  },
  {
   "cell_type": "code",
   "execution_count": 29,
   "metadata": {},
   "outputs": [
    {
     "name": "stdout",
     "output_type": "stream",
     "text": [
      "The most frequent Volume (ml) of drinks is between 282 and 423\n",
      "The most frequent Calories of drinks is between 0 and 83\n",
      "The most frequent Caffeine (mg) of drinks is between 0 and 155\n"
     ]
    },
    {
     "data": {
      "image/png": "[encoded data removed]",
      "text/plain": [
       "<Figure size 500x500 with 4 Axes>"
      ]
     },
     "metadata": {},
     "output_type": "display_data"
    }
   ],
   "source": [
    "num_bins = 10\n",
    "dataset.hist(bins=num_bins, figsize=(5,5))\n",
    "\n",
    "feat_list = dataset.columns[1:4]\n",
    "\n",
    "for i in range(len(feat_list)):\n",
    "\n",
    "    rng = (max(dataset[feat_list[i]].values) - min(dataset[feat_list[i]].values))/num_bins\n",
    "    rng_upper = (np.floor(dataset[feat_list[i]].mode()[0]/ rng) + 1) * rng\n",
    "    rng_lower = rng_upper - rng\n",
    "    print('The most frequent ' + str(feat_list[i])  + ' of drinks is between ' + str(int(rng_lower)) + ' and ' + str(int(rng_upper)))\n"
   ]
  },
  {
   "attachments": {},
   "cell_type": "markdown",
   "metadata": {},
   "source": [
    "**It can be seen that the most frequent drinks in terms of volume, calories, and caffeine are in the range of 282 to 423 (ml), 0 to 83, and 0 to 155 (mg) respectively.**"
   ]
  },
  {
   "attachments": {},
   "cell_type": "markdown",
   "metadata": {},
   "source": [
    "$$Section\\ C$$\n",
    "\n",
    "c) Use the KNN method in order to fit the appropriate model. For validation, use the F1 score metric."
   ]
  },
  {
   "cell_type": "code",
   "execution_count": 107,
   "metadata": {},
   "outputs": [],
   "source": [
    "# Shuffling the dataset rows\n",
    "dataset = dataset.sample(frac=1).reset_index(drop=True) \n",
    "features = ['Volume (ml)', 'Calories', 'Caffeine (mg)']\n",
    "label = ['type']\n",
    "\n",
    "train_data, test_data = train_test_split(dataset, test_size=0.2)\n",
    "\n",
    "X_train, Y_train = train_data[features].values, train_data[label].values\n",
    "X_test, Y_test = test_data[features].values, test_data[label].values\n",
    "\n",
    "features = dataset.columns.values[1:-1]\n",
    "label = dataset.columns.values[-1]"
   ]
  },
  {
   "cell_type": "code",
   "execution_count": 127,
   "metadata": {},
   "outputs": [
    {
     "name": "stdout",
     "output_type": "stream",
     "text": [
      "By setting the number of neighbors in each class on 5 F1 Score is: 0.683\n"
     ]
    }
   ],
   "source": [
    "n_neighbors = 5\n",
    "model = KNeighborsClassifier(n_neighbors=n_neighbors)\n",
    "model.fit(X_train, Y_train.ravel())\n",
    "\n",
    "Y_pred = KNeighborsClassifier.predict(model, X_test)\n",
    "\n",
    "print('By setting the number of neighbors in each class on ' + str(n_neighbors) + ' F1 Score is: ' + str(round(f1_score(Y_test, Y_pred, average=\"weighted\"), 3)))"
   ]
  },
  {
   "attachments": {},
   "cell_type": "markdown",
   "metadata": {},
   "source": [
    "**Rows of the dataset have been shuffled in the first section and then passed to the next one to be split in order to create a train dataset and test dataset. The KNN model has been applied to the training data. The number of neighbors in this model is set to 5. This model was then used on test data, and F1 Score was calculated.**"
   ]
  },
  {
   "attachments": {},
   "cell_type": "markdown",
   "metadata": {},
   "source": [
    "$$Section\\ D$$\n",
    "\n",
    "d) Find the best 𝑘"
   ]
  },
  {
   "cell_type": "code",
   "execution_count": 134,
   "metadata": {},
   "outputs": [
    {
     "name": "stdout",
     "output_type": "stream",
     "text": [
      "The maximum value of F1 Score: 0.683\n",
      "Number of neighbors: 4\n"
     ]
    },
    {
     "data": {
      "image/png": "[encoded data removed]",
      "text/plain": [
       "<Figure size 500x500 with 1 Axes>"
      ]
     },
     "metadata": {},
     "output_type": "display_data"
    },
    {
     "data": {
      "text/html": [
       "<div>\n",
       "<style scoped>\n",
       "    .dataframe tbody tr th:only-of-type {\n",
       "        vertical-align: middle;\n",
       "    }\n",
       "\n",
       "    .dataframe tbody tr th {\n",
       "        vertical-align: top;\n",
       "    }\n",
       "\n",
       "    .dataframe thead th {\n",
       "        text-align: right;\n",
       "    }\n",
       "</style>\n",
       "<table border=\"1\" class=\"dataframe\">\n",
       "  <thead>\n",
       "    <tr style=\"text-align: right;\">\n",
       "      <th></th>\n",
       "      <th>Number of Neighbors</th>\n",
       "      <th>F1 Score</th>\n",
       "    </tr>\n",
       "  </thead>\n",
       "  <tbody>\n",
       "    <tr>\n",
       "      <th>0</th>\n",
       "      <td>2</td>\n",
       "      <td>0.623</td>\n",
       "    </tr>\n",
       "    <tr>\n",
       "      <th>1</th>\n",
       "      <td>3</td>\n",
       "      <td>0.659</td>\n",
       "    </tr>\n",
       "    <tr>\n",
       "      <th>2</th>\n",
       "      <td>4</td>\n",
       "      <td>0.676</td>\n",
       "    </tr>\n",
       "    <tr>\n",
       "      <th>3</th>\n",
       "      <td>5</td>\n",
       "      <td>0.683</td>\n",
       "    </tr>\n",
       "    <tr>\n",
       "      <th>4</th>\n",
       "      <td>6</td>\n",
       "      <td>0.661</td>\n",
       "    </tr>\n",
       "    <tr>\n",
       "      <th>...</th>\n",
       "      <td>...</td>\n",
       "      <td>...</td>\n",
       "    </tr>\n",
       "    <tr>\n",
       "      <th>94</th>\n",
       "      <td>96</td>\n",
       "      <td>0.513</td>\n",
       "    </tr>\n",
       "    <tr>\n",
       "      <th>95</th>\n",
       "      <td>97</td>\n",
       "      <td>0.513</td>\n",
       "    </tr>\n",
       "    <tr>\n",
       "      <th>96</th>\n",
       "      <td>98</td>\n",
       "      <td>0.502</td>\n",
       "    </tr>\n",
       "    <tr>\n",
       "      <th>97</th>\n",
       "      <td>99</td>\n",
       "      <td>0.514</td>\n",
       "    </tr>\n",
       "    <tr>\n",
       "      <th>98</th>\n",
       "      <td>100</td>\n",
       "      <td>0.514</td>\n",
       "    </tr>\n",
       "  </tbody>\n",
       "</table>\n",
       "<p>99 rows × 2 columns</p>\n",
       "</div>"
      ],
      "text/plain": [
       "    Number of Neighbors  F1 Score\n",
       "0                     2     0.623\n",
       "1                     3     0.659\n",
       "2                     4     0.676\n",
       "3                     5     0.683\n",
       "4                     6     0.661\n",
       "..                  ...       ...\n",
       "94                   96     0.513\n",
       "95                   97     0.513\n",
       "96                   98     0.502\n",
       "97                   99     0.514\n",
       "98                  100     0.514\n",
       "\n",
       "[99 rows x 2 columns]"
      ]
     },
     "execution_count": 134,
     "metadata": {},
     "output_type": "execute_result"
    }
   ],
   "source": [
    "f1_list = []\n",
    "n_neighbors_max = 99\n",
    "\n",
    "for i in range(n_neighbors_max):\n",
    "\n",
    "    model = KNeighborsClassifier(n_neighbors=i+2)\n",
    "    model.fit(X_train, Y_train.ravel())\n",
    "    \n",
    "    Y_pred = model.predict(X_test).reshape(-1,1)\n",
    "    f1_list.append(round(f1_score(Y_test, Y_pred, average=\"weighted\"), 3))\n",
    "\n",
    "output_table = pd.DataFrame({'Number of Neighbors': range(n_neighbors_max), 'F1 Score': f1_list})\n",
    "output_table['Number of Neighbors'] += 2\n",
    "print('The maximum value of F1 Score: ' + str(round(max(f1_list), 3)) + '\\n' + 'Number of neighbors: ' + str(f1_list.index(max(f1_list))+1))\n",
    "\n",
    "plt.figure(figsize=(5,5))\n",
    "plt.plot(range(n_neighbors_max), f1_list)\n",
    "plt.title('F1 Score across various number of neighbors')\n",
    "plt.xlabel('Number of Neighbors')\n",
    "plt.ylabel('F1 Score')\n",
    "plt.show()\n",
    "\n",
    "output_table"
   ]
  },
  {
   "attachments": {},
   "cell_type": "markdown",
   "metadata": {},
   "source": [
    "**A for loop has been created in order to find the optimum number of neighbors. In this case, the number of neighbors increased gradually from 2 to 100 and was stored in a data frame called \"output_table\" along with corresponding F1 scores. Finally, the maximum F1 score and a plot of data frame data have been generated.**"
   ]
  }
 ],
 "metadata": {
  "kernelspec": {
   "display_name": "arash",
   "language": "python",
   "name": "python3"
  },
  "language_info": {
   "codemirror_mode": {
    "name": "ipython",
    "version": 3
   },
   "file_extension": ".py",
   "mimetype": "text/x-python",
   "name": "python",
   "nbconvert_exporter": "python",
   "pygments_lexer": "ipython3",
   "version": "3.9.0"
  },
  "orig_nbformat": 4
 },
 "nbformat": 4,
 "nbformat_minor": 2
}
